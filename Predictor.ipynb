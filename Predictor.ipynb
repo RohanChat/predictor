{
 "cells": [
  {
   "cell_type": "markdown",
   "metadata": {},
   "source": [
    "# MMA Fight Outcome Model"
   ]
  },
  {
   "cell_type": "markdown",
   "metadata": {},
   "source": [
    "The purpose of this project is to create a binary classification model to predict the outcome of an MMA fight (win or loss for a given fighter) based on a set of features extracted from the database found at https://www.kaggle.com/datasets/danmcinerney/mma-differentials-and-elo?select=masterMLpublic.csv\n",
    "\n",
    "The database consists of over 6000 unique fights and 513 feature columns for which data is collected on each fight. This project will explore two distinct models. The first will tackle the problem using a feed-forward neural network, whereas the second model will utilise an SVM classifier.\n",
    "\n",
    "#### For more information on the problem statement and methodology, please read Summary.pdf or README.md"
   ]
  },
  {
   "cell_type": "markdown",
   "metadata": {},
   "source": [
    "## I. DATA PREPROCESSING"
   ]
  },
  {
   "cell_type": "code",
   "execution_count": 3,
   "metadata": {},
   "outputs": [],
   "source": [
    "import pandas as pd\n",
    "import numpy as np\n",
    "from sklearn.model_selection import train_test_split\n",
    "from sklearn.preprocessing import StandardScaler\n",
    "\n",
    "# REMOVING ENTRIES WITH MISSING DATA\n",
    "\n",
    "data = pd.read_csv('masterdataframe.csv')\n",
    "data = data.dropna()\n",
    "start_col = data.columns.get_loc(\"reach\") \n",
    "end_col = data.columns.get_loc(\"precomp_recent_avg_ground_strikes_attempts_per_min\") + 1  \n",
    "features = data.iloc[:, start_col:end_col]\n",
    "target = data['result']  \n",
    "\n",
    "# SPLITTING DATA INTO TRAINING, VALIDATION, TESTING SETS\n",
    "\n",
    "X_train, X_temp, y_train, y_temp = train_test_split(features, target, test_size=0.4, random_state=42)\n",
    "X_val, X_test, y_val, y_test = train_test_split(X_temp, y_temp, test_size=0.5, random_state=42)\n",
    "\n",
    "# NORMALISING\n",
    "\n",
    "scaler = StandardScaler()\n",
    "X_train = scaler.fit_transform(X_train)\n",
    "X_val = scaler.transform(X_val)\n",
    "X_test = scaler.transform(X_test)"
   ]
  },
  {
   "cell_type": "markdown",
   "metadata": {},
   "source": [
    "### Example visualisation of processed data for feature 200"
   ]
  },
  {
   "cell_type": "code",
   "execution_count": 4,
   "metadata": {},
   "outputs": [
    {
     "data": {
      "image/png": "[encoded data removed]",
      "text/plain": [
       "<Figure size 720x360 with 2 Axes>"
      ]
     },
     "metadata": {
      "needs_background": "light"
     },
     "output_type": "display_data"
    }
   ],
   "source": [
    "import matplotlib.pyplot as plt\n",
    "\n",
    "feature_idx = 200  # Choose the index of the feature you want to plot\n",
    "original_feature = data.iloc[:, start_col + feature_idx]\n",
    "normalized_feature = X_train[:, feature_idx]\n",
    "\n",
    "plt.figure(figsize=(10, 5))\n",
    "plt.subplot(1, 2, 1)\n",
    "plt.hist(original_feature, bins=30)\n",
    "plt.title('Original feature')\n",
    "plt.subplot(1, 2, 2)\n",
    "plt.hist(normalized_feature, bins=30)\n",
    "plt.title('Normalized feature')\n",
    "plt.show()\n"
   ]
  },
  {
   "cell_type": "markdown",
   "metadata": {},
   "source": [
    "## II. DEVELOPING MODEL 1: LOGISTIC REGRESSION AND A NEURAL NETWORK\n",
    "\n",
    "### Least Squares Approximation using LU Factorisation"
   ]
  },
  {
   "cell_type": "code",
   "execution_count": 7,
   "metadata": {},
   "outputs": [],
   "source": [
    "import scipy.linalg as la\n",
    "\n",
    "X_train = np.hstack([np.ones((X_train.shape[0], 1)), X_train])\n",
    "X_val = np.hstack([np.ones((X_val.shape[0], 1)), X_val])\n",
    "X_test = np.hstack([np.ones((X_test.shape[0], 1)), X_test])\n",
    "\n",
    "alpha = 1e-3  # Regularization strength \n",
    "XtX = X_train.T @ X_train + alpha * np.eye(X_train.shape[1])\n",
    "\n",
    "\n",
    "# XtX = X_train.T @ X_train\n",
    "Xty = X_train.T @ y_train\n",
    "\n",
    "# LU Factorization\n",
    "P, L, U = la.lu(XtX)\n",
    "\n",
    "# Forward substitution\n",
    "y_temp = la.solve(L, P @ Xty)\n",
    "\n",
    "# Backward substitution\n",
    "w = la.solve(U, y_temp)\n",
    "\n",
    "def logistic_function(x):\n",
    "    return 1 / (1 + np.exp(-x))\n",
    "\n",
    "y_train_pred = logistic_function(X_train @ w)\n",
    "y_val_pred = logistic_function(X_val @ w)\n",
    "y_test_pred = logistic_function(X_test @ w)\n",
    "\n",
    "\n",
    "threshold = 0.5\n",
    "y_train_pred_label = (y_train_pred >= threshold).astype(int)\n",
    "y_val_pred_label = (y_val_pred >= threshold).astype(int)\n",
    "y_test_pred_label = (y_test_pred >= threshold).astype(int)\n"
   ]
  },
  {
   "cell_type": "code",
   "execution_count": 8,
   "metadata": {},
   "outputs": [
    {
     "ename": "NameError",
     "evalue": "name 'y_test_probabilities' is not defined",
     "output_type": "error",
     "traceback": [
      "\u001b[0;31m---------------------------------------------------------------------------\u001b[0m",
      "\u001b[0;31mNameError\u001b[0m                                 Traceback (most recent call last)",
      "\u001b[0;32m<ipython-input-8-66ece439f104>\u001b[0m in \u001b[0;36m<module>\u001b[0;34m\u001b[0m\n\u001b[1;32m     17\u001b[0m \u001b[0;34m\u001b[0m\u001b[0m\n\u001b[1;32m     18\u001b[0m \u001b[0;31m# Example of interpreting probabilities\u001b[0m\u001b[0;34m\u001b[0m\u001b[0;34m\u001b[0m\u001b[0;34m\u001b[0m\u001b[0m\n\u001b[0;32m---> 19\u001b[0;31m \u001b[0;32mfor\u001b[0m \u001b[0mi\u001b[0m\u001b[0;34m,\u001b[0m \u001b[0mprob\u001b[0m \u001b[0;32min\u001b[0m \u001b[0menumerate\u001b[0m\u001b[0;34m(\u001b[0m\u001b[0my_test_probabilities\u001b[0m\u001b[0;34m[\u001b[0m\u001b[0;34m:\u001b[0m\u001b[0;36m5\u001b[0m\u001b[0;34m]\u001b[0m\u001b[0;34m)\u001b[0m\u001b[0;34m:\u001b[0m  \u001b[0;31m# Just showing the first 5 predictions\u001b[0m\u001b[0;34m\u001b[0m\u001b[0;34m\u001b[0m\u001b[0m\n\u001b[0m\u001b[1;32m     20\u001b[0m     \u001b[0mprint\u001b[0m\u001b[0;34m(\u001b[0m\u001b[0;34mf\"Fight {i}: Probability of winning: {prob:.3f}\"\u001b[0m\u001b[0;34m)\u001b[0m\u001b[0;34m\u001b[0m\u001b[0;34m\u001b[0m\u001b[0m\n\u001b[1;32m     21\u001b[0m \u001b[0;34m\u001b[0m\u001b[0m\n",
      "\u001b[0;31mNameError\u001b[0m: name 'y_test_probabilities' is not defined"
     ]
    }
   ],
   "source": [
    "from sklearn.metrics import accuracy_score, precision_score, recall_score, f1_score\n",
    "\n",
    "accuracy_train = accuracy_score(y_train, y_train_pred_label)\n",
    "precision_train = precision_score(y_train, y_train_pred_label)\n",
    "recall_train = recall_score(y_train, y_train_pred_label)\n",
    "f1_train = f1_score(y_train, y_train_pred_label)\n",
    "\n",
    "accuracy_val = accuracy_score(y_val, y_val_pred_label)\n",
    "precision_val = precision_score(y_val, y_val_pred_label)\n",
    "recall_val = recall_score(y_val, y_val_pred_label)\n",
    "f1_val = f1_score(y_val, y_val_pred_label)\n",
    "\n",
    "accuracy_test = accuracy_score(y_test, y_test_pred_label)\n",
    "precision_test = precision_score(y_test, y_test_pred_label)\n",
    "recall_test = recall_score(y_test, y_test_pred_label)\n",
    "f1_test = f1_score(y_test, y_test_pred_label)\n",
    "\n",
    "# Example of interpreting probabilities\n",
    "for i, prob in enumerate(y_test_probabilities[:5]):  # Just showing the first 5 predictions\n",
    "    print(f\"Fight {i}: Probability of winning: {prob:.3f}\")\n",
    "    \n",
    "auc_score = roc_auc_score(y_test, y_test_probabilities)\n",
    "print(f\"AUC-ROC Score: {auc_score:.3f}\")\n",
    "\n",
    "print(\"Training set evaluation:\")\n",
    "print(f\"Accuracy: {accuracy_train:.3f}\")\n",
    "print(f\"Precision: {precision_train:.3f}\")\n",
    "print(f\"Recall: {recall_train:.3f}\")\n",
    "print(f\"F1 score: {f1_train:.3f}\")\n",
    "\n",
    "print(\"\\nValidation set evaluation:\")\n",
    "print(f\"Accuracy: {accuracy_val:.3f}\")\n",
    "print(f\"Precision: {precision_val:.3f}\")\n",
    "print(f\"Recall: {recall_val:.3f}\")\n",
    "print(f\"F1 score: {f1_val:.3f}\")\n",
    "\n",
    "print(\"\\nTest set evaluation:\")\n",
    "print(f\"Accuracy: {accuracy_test:.3f}\")\n",
    "print(f\"Precision: {precision_test:.3f}\")\n",
    "print(f\"Recall: {recall_test:.3f}\")\n",
    "print(f\"F1 score {f1_test:.3f}\")\n"
   ]
  },
  {
   "cell_type": "markdown",
   "metadata": {},
   "source": [
    "### Refining the Logistic Regression: Elastic Net Regularisation"
   ]
  },
  {
   "cell_type": "code",
   "execution_count": 9,
   "metadata": {},
   "outputs": [
    {
     "name": "stdout",
     "output_type": "stream",
     "text": [
      "Fight 0: Probability of winning: 0.748\n",
      "Fight 1: Probability of winning: 0.022\n",
      "Fight 2: Probability of winning: 0.598\n",
      "Fight 3: Probability of winning: 0.012\n",
      "Fight 4: Probability of winning: 0.410\n",
      "AUC-ROC Score: 0.902\n",
      "Training set evaluation:\n",
      "Accuracy: 0.865\n",
      "Precision: 0.855\n",
      "Recall: 0.877\n",
      "F1 score: 0.866\n",
      "\n",
      "Validation set evaluation:\n",
      "Accuracy: 0.826\n",
      "Precision: 0.829\n",
      "Recall: 0.816\n",
      "F1 score: 0.822\n",
      "\n",
      "Test set evaluation:\n",
      "Accuracy: 0.823\n",
      "Precision: 0.815\n",
      "Recall: 0.825\n",
      "F1 score 0.820\n"
     ]
    }
   ],
   "source": [
    "from sklearn.linear_model import SGDClassifier\n",
    "\n",
    "# Prepare the data\n",
    "X_train = np.hstack([np.ones((X_train.shape[0], 1)), X_train])\n",
    "X_val = np.hstack([np.ones((X_val.shape[0], 1)), X_val])\n",
    "X_test = np.hstack([np.ones((X_test.shape[0], 1)), X_test])\n",
    "\n",
    "# Set regularization hyperparameters\n",
    "alpha = 1e-3  # Regularization strength\n",
    "l1_ratio = 0.5  # Ratio between L1 and L2 regularization\n",
    "\n",
    "# Train the Elastic Net regularized logistic regression model\n",
    "model = SGDClassifier(loss='log', penalty='elasticnet', alpha=alpha, l1_ratio=l1_ratio, random_state=42)\n",
    "model.fit(X_train, y_train)\n",
    "\n",
    "# Predict labels and probabilities\n",
    "y_train_pred_label = model.predict(X_train)\n",
    "y_train_pred = model.predict_proba(X_train)[:, 1]\n",
    "\n",
    "y_val_pred_label = model.predict(X_val)\n",
    "y_val_pred = model.predict_proba(X_val)[:, 1]\n",
    "\n",
    "y_test_pred_label = model.predict(X_test)\n",
    "y_test_pred = model.predict_proba(X_test)[:, 1]\n",
    "\n",
    "# Predict probabilities for the test set\n",
    "y_test_probabilities = model.predict_proba(X_test)[:, 1]\n",
    "\n",
    "# Example of interpreting probabilities\n",
    "for i, prob in enumerate(y_test_probabilities[:5]):  # Just showing the first 5 predictions\n",
    "    print(f\"Fight {i}: Probability of winning: {prob:.3f}\")\n",
    "\n",
    "\n",
    "# Evaluate the model\n",
    "from sklearn.metrics import accuracy_score, precision_score, recall_score, f1_score\n",
    "\n",
    "from sklearn.metrics import roc_auc_score\n",
    "\n",
    "auc_score = roc_auc_score(y_test, y_test_probabilities)\n",
    "print(f\"AUC-ROC Score: {auc_score:.3f}\")\n",
    "\n",
    "\n",
    "accuracy_train = accuracy_score(y_train, y_train_pred_label)\n",
    "precision_train = precision_score(y_train, y_train_pred_label)\n",
    "recall_train = recall_score(y_train, y_train_pred_label)\n",
    "f1_train = f1_score(y_train, y_train_pred_label)\n",
    "\n",
    "accuracy_val = accuracy_score(y_val, y_val_pred_label)\n",
    "precision_val = precision_score(y_val, y_val_pred_label)\n",
    "recall_val = recall_score(y_val, y_val_pred_label)\n",
    "f1_val = f1_score(y_val, y_val_pred_label)\n",
    "\n",
    "accuracy_test = accuracy_score(y_test, y_test_pred_label)\n",
    "precision_test = precision_score(y_test, y_test_pred_label)\n",
    "recall_test = recall_score(y_test, y_test_pred_label)\n",
    "f1_test = f1_score(y_test, y_test_pred_label)\n",
    "\n",
    "print(\"Training set evaluation:\")\n",
    "print(f\"Accuracy: {accuracy_train:.3f}\")\n",
    "print(f\"Precision: {precision_train:.3f}\")\n",
    "print(f\"Recall: {recall_train:.3f}\")\n",
    "print(f\"F1 score: {f1_train:.3f}\")\n",
    "\n",
    "print(\"\\nValidation set evaluation:\")\n",
    "print(f\"Accuracy: {accuracy_val:.3f}\")\n",
    "print(f\"Precision: {precision_val:.3f}\")\n",
    "print(f\"Recall: {recall_val:.3f}\")\n",
    "print(f\"F1 score: {f1_val:.3f}\")\n",
    "\n",
    "print(\"\\nTest set evaluation:\")\n",
    "print(f\"Accuracy: {accuracy_test:.3f}\")\n",
    "print(f\"Precision: {precision_test:.3f}\")\n",
    "print(f\"Recall: {recall_test:.3f}\")\n",
    "print(f\"F1 score {f1_test:.3f}\")\n"
   ]
  },
  {
   "cell_type": "markdown",
   "metadata": {},
   "source": [
    "### Introducing a Feed-foward Neural Network"
   ]
  },
  {
   "cell_type": "code",
   "execution_count": 10,
   "metadata": {},
   "outputs": [
    {
     "name": "stdout",
     "output_type": "stream",
     "text": [
      "Epoch 1/50\n",
      "114/114 [==============================] - 1s 3ms/step - loss: 0.5133 - accuracy: 0.7367 - val_loss: 0.4576 - val_accuracy: 0.7794\n",
      "Epoch 2/50\n",
      "114/114 [==============================] - 0s 1ms/step - loss: 0.4200 - accuracy: 0.7965 - val_loss: 0.4259 - val_accuracy: 0.7967\n",
      "Epoch 3/50\n",
      "114/114 [==============================] - 0s 1ms/step - loss: 0.3955 - accuracy: 0.8135 - val_loss: 0.4153 - val_accuracy: 0.8099\n",
      "Epoch 4/50\n",
      "114/114 [==============================] - 0s 1ms/step - loss: 0.3810 - accuracy: 0.8204 - val_loss: 0.4091 - val_accuracy: 0.8181\n",
      "Epoch 5/50\n",
      "114/114 [==============================] - 0s 1ms/step - loss: 0.3721 - accuracy: 0.8327 - val_loss: 0.4061 - val_accuracy: 0.8165\n",
      "Epoch 6/50\n",
      "114/114 [==============================] - 0s 1ms/step - loss: 0.3638 - accuracy: 0.8316 - val_loss: 0.4028 - val_accuracy: 0.8230\n",
      "Epoch 7/50\n",
      "114/114 [==============================] - 0s 1ms/step - loss: 0.3592 - accuracy: 0.8327 - val_loss: 0.4022 - val_accuracy: 0.8230\n",
      "Epoch 8/50\n",
      "114/114 [==============================] - 0s 1ms/step - loss: 0.3528 - accuracy: 0.8406 - val_loss: 0.4028 - val_accuracy: 0.8230\n",
      "Epoch 9/50\n",
      "114/114 [==============================] - 0s 1ms/step - loss: 0.3491 - accuracy: 0.8450 - val_loss: 0.3993 - val_accuracy: 0.8280\n",
      "Epoch 10/50\n",
      "114/114 [==============================] - 0s 1ms/step - loss: 0.3460 - accuracy: 0.8464 - val_loss: 0.4007 - val_accuracy: 0.8280\n",
      "Epoch 11/50\n",
      "114/114 [==============================] - 0s 1ms/step - loss: 0.3430 - accuracy: 0.8456 - val_loss: 0.4020 - val_accuracy: 0.8313\n",
      "Epoch 12/50\n",
      "114/114 [==============================] - 0s 1ms/step - loss: 0.3410 - accuracy: 0.8508 - val_loss: 0.4029 - val_accuracy: 0.8305\n",
      "Epoch 13/50\n",
      "114/114 [==============================] - 0s 1ms/step - loss: 0.3397 - accuracy: 0.8472 - val_loss: 0.4025 - val_accuracy: 0.8296\n",
      "Epoch 14/50\n",
      "114/114 [==============================] - 0s 1ms/step - loss: 0.3368 - accuracy: 0.8516 - val_loss: 0.4015 - val_accuracy: 0.8321\n",
      "Epoch 15/50\n",
      "114/114 [==============================] - 0s 1ms/step - loss: 0.3343 - accuracy: 0.8566 - val_loss: 0.4092 - val_accuracy: 0.8313\n",
      "Epoch 16/50\n",
      "114/114 [==============================] - 0s 1ms/step - loss: 0.3338 - accuracy: 0.8549 - val_loss: 0.4014 - val_accuracy: 0.8329\n",
      "Epoch 17/50\n",
      "114/114 [==============================] - 0s 1ms/step - loss: 0.3327 - accuracy: 0.8560 - val_loss: 0.4055 - val_accuracy: 0.8255\n",
      "Epoch 18/50\n",
      "114/114 [==============================] - 0s 1ms/step - loss: 0.3320 - accuracy: 0.8577 - val_loss: 0.4062 - val_accuracy: 0.8222\n",
      "Epoch 19/50\n",
      "114/114 [==============================] - 0s 1ms/step - loss: 0.3313 - accuracy: 0.8555 - val_loss: 0.4038 - val_accuracy: 0.8255\n",
      "Epoch 20/50\n",
      "114/114 [==============================] - 0s 1ms/step - loss: 0.3285 - accuracy: 0.8568 - val_loss: 0.4083 - val_accuracy: 0.8321\n",
      "Epoch 21/50\n",
      "114/114 [==============================] - 0s 1ms/step - loss: 0.3287 - accuracy: 0.8568 - val_loss: 0.4064 - val_accuracy: 0.8272\n",
      "Epoch 22/50\n",
      "114/114 [==============================] - 0s 1ms/step - loss: 0.3257 - accuracy: 0.8566 - val_loss: 0.4104 - val_accuracy: 0.8305\n",
      "Epoch 23/50\n",
      "114/114 [==============================] - 0s 1ms/step - loss: 0.3271 - accuracy: 0.8566 - val_loss: 0.4050 - val_accuracy: 0.8263\n",
      "Epoch 24/50\n",
      "114/114 [==============================] - 0s 1ms/step - loss: 0.3250 - accuracy: 0.8618 - val_loss: 0.4103 - val_accuracy: 0.8239\n",
      "Epoch 25/50\n",
      "114/114 [==============================] - 0s 1ms/step - loss: 0.3236 - accuracy: 0.8587 - val_loss: 0.4102 - val_accuracy: 0.8247\n",
      "Epoch 26/50\n",
      "114/114 [==============================] - 0s 1ms/step - loss: 0.3233 - accuracy: 0.8607 - val_loss: 0.4079 - val_accuracy: 0.8329\n",
      "Epoch 27/50\n",
      "114/114 [==============================] - 0s 1ms/step - loss: 0.3221 - accuracy: 0.8601 - val_loss: 0.4107 - val_accuracy: 0.8296\n",
      "Epoch 28/50\n",
      "114/114 [==============================] - 0s 1ms/step - loss: 0.3217 - accuracy: 0.8612 - val_loss: 0.4109 - val_accuracy: 0.8272\n",
      "Epoch 29/50\n",
      "114/114 [==============================] - 0s 1ms/step - loss: 0.3210 - accuracy: 0.8604 - val_loss: 0.4132 - val_accuracy: 0.8255\n",
      "Epoch 30/50\n",
      "114/114 [==============================] - 0s 1ms/step - loss: 0.3206 - accuracy: 0.8629 - val_loss: 0.4111 - val_accuracy: 0.8296\n",
      "Epoch 31/50\n",
      "114/114 [==============================] - 0s 1ms/step - loss: 0.3187 - accuracy: 0.8629 - val_loss: 0.4157 - val_accuracy: 0.8214\n",
      "Epoch 32/50\n",
      "114/114 [==============================] - 0s 1ms/step - loss: 0.3199 - accuracy: 0.8609 - val_loss: 0.4090 - val_accuracy: 0.8288\n",
      "Epoch 33/50\n",
      "114/114 [==============================] - 0s 1ms/step - loss: 0.3179 - accuracy: 0.8626 - val_loss: 0.4111 - val_accuracy: 0.8272\n",
      "Epoch 34/50\n",
      "114/114 [==============================] - 0s 1ms/step - loss: 0.3172 - accuracy: 0.8645 - val_loss: 0.4115 - val_accuracy: 0.8263\n",
      "Epoch 35/50\n",
      "114/114 [==============================] - 0s 1ms/step - loss: 0.3170 - accuracy: 0.8607 - val_loss: 0.4120 - val_accuracy: 0.8272\n",
      "Epoch 36/50\n",
      "114/114 [==============================] - 0s 1ms/step - loss: 0.3175 - accuracy: 0.8615 - val_loss: 0.4127 - val_accuracy: 0.8239\n",
      "Epoch 37/50\n",
      "114/114 [==============================] - 0s 1ms/step - loss: 0.3171 - accuracy: 0.8620 - val_loss: 0.4128 - val_accuracy: 0.8255\n",
      "Epoch 38/50\n",
      "114/114 [==============================] - 0s 1ms/step - loss: 0.3168 - accuracy: 0.8607 - val_loss: 0.4122 - val_accuracy: 0.8239\n",
      "Epoch 39/50\n",
      "114/114 [==============================] - 0s 1ms/step - loss: 0.3147 - accuracy: 0.8670 - val_loss: 0.4119 - val_accuracy: 0.8280\n",
      "Epoch 40/50\n",
      "114/114 [==============================] - 0s 1ms/step - loss: 0.3151 - accuracy: 0.8634 - val_loss: 0.4208 - val_accuracy: 0.8239\n",
      "Epoch 41/50\n",
      "114/114 [==============================] - 0s 1ms/step - loss: 0.3145 - accuracy: 0.8612 - val_loss: 0.4115 - val_accuracy: 0.8288\n",
      "Epoch 42/50\n",
      "114/114 [==============================] - 0s 1ms/step - loss: 0.3152 - accuracy: 0.8609 - val_loss: 0.4169 - val_accuracy: 0.8239\n",
      "Epoch 43/50\n",
      "114/114 [==============================] - 0s 1ms/step - loss: 0.3143 - accuracy: 0.8667 - val_loss: 0.4146 - val_accuracy: 0.8247\n",
      "Epoch 44/50\n",
      "114/114 [==============================] - 0s 1ms/step - loss: 0.3138 - accuracy: 0.8642 - val_loss: 0.4177 - val_accuracy: 0.8198\n",
      "Epoch 45/50\n",
      "114/114 [==============================] - 0s 1ms/step - loss: 0.3128 - accuracy: 0.8662 - val_loss: 0.4141 - val_accuracy: 0.8280\n",
      "Epoch 46/50\n",
      "114/114 [==============================] - 0s 1ms/step - loss: 0.3121 - accuracy: 0.8662 - val_loss: 0.4186 - val_accuracy: 0.8263\n",
      "Epoch 47/50\n",
      "114/114 [==============================] - 0s 1ms/step - loss: 0.3127 - accuracy: 0.8673 - val_loss: 0.4190 - val_accuracy: 0.8280\n",
      "Epoch 48/50\n",
      "114/114 [==============================] - 0s 1ms/step - loss: 0.3109 - accuracy: 0.8640 - val_loss: 0.4208 - val_accuracy: 0.8247\n",
      "Epoch 49/50\n",
      "114/114 [==============================] - 0s 1ms/step - loss: 0.3120 - accuracy: 0.8681 - val_loss: 0.4177 - val_accuracy: 0.8280\n",
      "Epoch 50/50\n",
      "114/114 [==============================] - 0s 1ms/step - loss: 0.3101 - accuracy: 0.8675 - val_loss: 0.4209 - val_accuracy: 0.8255\n",
      "38/38 [==============================] - 0s 820us/step - loss: 0.4298 - accuracy: 0.8191\n",
      "Test loss: 0.4298138916492462, Test accuracy: 0.8190789222717285\n"
     ]
    }
   ],
   "source": [
    "import tensorflow as tf\n",
    "from tensorflow.keras import layers, models\n",
    "\n",
    "def sigmoid(x):\n",
    "    return 1 / (1 + np.exp(-x))\n",
    "\n",
    "# Identify significant independent variables\n",
    "significant_variables = np.where(np.abs(w[1:]) > 1e-2)[0]  # Adjust the threshold as needed\n",
    "X_train_nn = X_train[:, 1:][:, significant_variables]\n",
    "X_val_nn = X_val[:, 1:][:, significant_variables]\n",
    "X_test_nn = X_test[:, 1:][:, significant_variables]\n",
    "\n",
    "# Add logistic regression predictions as an input\n",
    "X_train_nn = np.hstack([X_train_nn, y_train_pred.reshape(-1, 1)])\n",
    "X_val_nn = np.hstack([X_val_nn, y_val_pred.reshape(-1, 1)])\n",
    "X_test_nn = np.hstack([X_test_nn, y_test_pred.reshape(-1, 1)])\n",
    "\n",
    "# Create a simple feedforward neural network\n",
    "model = models.Sequential()\n",
    "model.add(layers.Dense(1, activation='sigmoid', input_shape=(X_train_nn.shape[1],)))\n",
    "\n",
    "# Compile the model\n",
    "model.compile(optimizer='adam', loss='binary_crossentropy', metrics=['accuracy'])\n",
    "\n",
    "# Train the model\n",
    "history = model.fit(X_train_nn, y_train, epochs=50, batch_size=32, validation_data=(X_val_nn, y_val), verbose=1)\n",
    "\n",
    "# Evaluate the model on the test set\n",
    "test_loss, test_accuracy = model.evaluate(X_test_nn, y_test)\n",
    "print(f\"Test loss: {test_loss}, Test accuracy: {test_accuracy}\")\n"
   ]
  },
  {
   "cell_type": "markdown",
   "metadata": {},
   "source": [
    "### Evaluation"
   ]
  },
  {
   "cell_type": "code",
   "execution_count": 11,
   "metadata": {
    "scrolled": false
   },
   "outputs": [
    {
     "name": "stdout",
     "output_type": "stream",
     "text": [
      "114/114 [==============================] - 0s 647us/step\n",
      "38/38 [==============================] - 0s 601us/step\n",
      "38/38 [==============================] - 0s 668us/step\n",
      "Training set evaluation:\n",
      "Accuracy: 0.871\n",
      "Precision: 0.871\n",
      "Recall: 0.870\n",
      "F1 score: 0.870\n",
      "\n",
      "Validation set evaluation:\n",
      "Accuracy: 0.826\n",
      "Precision: 0.835\n",
      "Recall: 0.807\n",
      "F1 score: 0.821\n",
      "\n",
      "Test set evaluation:\n",
      "Accuracy: 0.819\n",
      "Precision: 0.824\n",
      "Recall: 0.799\n",
      "F1 score 0.812\n"
     ]
    },
    {
     "data": {
      "image/png": "[encoded data removed]",
      "text/plain": [
       "<Figure size 432x288 with 1 Axes>"
      ]
     },
     "metadata": {
      "needs_background": "light"
     },
     "output_type": "display_data"
    },
    {
     "data": {
      "image/png": "[encoded data removed]",
      "text/plain": [
       "<Figure size 432x288 with 1 Axes>"
      ]
     },
     "metadata": {
      "needs_background": "light"
     },
     "output_type": "display_data"
    },
    {
     "data": {
      "image/png": "[encoded data removed]",
      "text/plain": [
       "<Figure size 432x288 with 1 Axes>"
      ]
     },
     "metadata": {
      "needs_background": "light"
     },
     "output_type": "display_data"
    }
   ],
   "source": [
    "from sklearn.metrics import accuracy_score, precision_score, recall_score, f1_score\n",
    "import matplotlib.pyplot as plt\n",
    "import seaborn as sns\n",
    "from sklearn.metrics import confusion_matrix, roc_curve, roc_auc_score, precision_recall_curve, average_precision_score, plot_confusion_matrix\n",
    "\n",
    "# Get the predictions from the hybrid model\n",
    "y_train_pred_nn = model.predict(X_train_nn)\n",
    "y_val_pred_nn = model.predict(X_val_nn)\n",
    "y_test_pred_nn = model.predict(X_test_nn)\n",
    "\n",
    "# Apply the threshold\n",
    "threshold = 0.5\n",
    "y_train_pred_label_nn = (y_train_pred_nn >= threshold).astype(int)\n",
    "y_val_pred_label_nn = (y_val_pred_nn >= threshold).astype(int)\n",
    "y_test_pred_label_nn = (y_test_pred_nn >= threshold).astype(int)\n",
    "\n",
    "# Calculate the evaluation metrics\n",
    "accuracy_train_nn = accuracy_score(y_train, y_train_pred_label_nn)\n",
    "precision_train_nn = precision_score(y_train, y_train_pred_label_nn)\n",
    "recall_train_nn = recall_score(y_train, y_train_pred_label_nn)\n",
    "f1_train_nn = f1_score(y_train, y_train_pred_label_nn)\n",
    "\n",
    "accuracy_val_nn = accuracy_score(y_val, y_val_pred_label_nn)\n",
    "precision_val_nn = precision_score(y_val, y_val_pred_label_nn)\n",
    "recall_val_nn = recall_score(y_val, y_val_pred_label_nn)\n",
    "f1_val_nn = f1_score(y_val, y_val_pred_label_nn)\n",
    "\n",
    "accuracy_test_nn = accuracy_score(y_test, y_test_pred_label_nn)\n",
    "precision_test_nn = precision_score(y_test, y_test_pred_label_nn)\n",
    "recall_test_nn = recall_score(y_test, y_test_pred_label_nn)\n",
    "f1_test_nn = f1_score(y_test, y_test_pred_label_nn)\n",
    "\n",
    "# Print the evaluation results\n",
    "print(\"Training set evaluation:\")\n",
    "print(f\"Accuracy: {accuracy_train_nn:.3f}\")\n",
    "print(f\"Precision: {precision_train_nn:.3f}\")\n",
    "print(f\"Recall: {recall_train_nn:.3f}\")\n",
    "print(f\"F1 score: {f1_train_nn:.3f}\")\n",
    "\n",
    "print(\"\\nValidation set evaluation:\")\n",
    "print(f\"Accuracy: {accuracy_val_nn:.3f}\")\n",
    "print(f\"Precision: {precision_val_nn:.3f}\")\n",
    "print(f\"Recall: {recall_val_nn:.3f}\")\n",
    "print(f\"F1 score: {f1_val_nn:.3f}\")\n",
    "\n",
    "print(\"\\nTest set evaluation:\")\n",
    "print(f\"Accuracy: {accuracy_test_nn:.3f}\")\n",
    "print(f\"Precision: {precision_test_nn:.3f}\")\n",
    "print(f\"Recall: {recall_test_nn:.3f}\")\n",
    "print(f\"F1 score {f1_test_nn:.3f}\")\n",
    "\n",
    "\n",
    "\n",
    "cm = confusion_matrix(y_val, y_val_pred_label)\n",
    "sns.heatmap(cm, annot=True, fmt='d', cmap='Blues', cbar=False)\n",
    "plt.xlabel('Predicted')\n",
    "plt.ylabel('Actual')\n",
    "plt.title('Confusion Matrix for Validation Set')\n",
    "plt.show()\n",
    "\n",
    "y_val_proba = y_val_pred  # Use predicted probabilities from the logistic function\n",
    "\n",
    "fpr, tpr, _ = roc_curve(y_val, y_val_proba)\n",
    "auc = roc_auc_score(y_val, y_val_proba)\n",
    "\n",
    "plt.figure()\n",
    "plt.plot(fpr, tpr, label=f'AUC = {auc:.2f}')\n",
    "plt.plot([0, 1], [0, 1], 'k--')\n",
    "plt.xlim([0.0, 1.0])\n",
    "plt.ylim([0.0, 1.05])\n",
    "plt.xlabel('False Positive Rate')\n",
    "plt.ylabel('True Positive Rate')\n",
    "plt.title('ROC Curve for Validation Set')\n",
    "plt.legend(loc='lower right')\n",
    "plt.show()\n",
    "\n",
    "precision, recall, _ = precision_recall_curve(y_val, y_val_proba)\n",
    "average_precision = average_precision_score(y_val, y_val_proba)\n",
    "\n",
    "plt.figure()\n",
    "plt.step(recall, precision, where='post')\n",
    "plt.xlabel('Recall')\n",
    "plt.ylabel('Precision')\n",
    "plt.ylim([0.0, 1.05])\n",
    "plt.xlim([0.0, 1.0])\n",
    "plt.title(f'Precision-Recall curve for Validation Set: AP={average_precision:.2f}')\n",
    "plt.show()\n"
   ]
  },
  {
   "cell_type": "markdown",
   "metadata": {},
   "source": [
    "## III. DEVELOPING MODEL 2: SVM Classifier using QR Factorisation"
   ]
  },
  {
   "cell_type": "markdown",
   "metadata": {},
   "source": [
    "### Performing the QR Decomposition"
   ]
  },
  {
   "cell_type": "code",
   "execution_count": 12,
   "metadata": {},
   "outputs": [],
   "source": [
    "from scipy.stats import uniform, randint\n",
    "from sklearn.svm import SVC\n",
    "from sklearn.metrics import accuracy_score\n",
    "from scipy.linalg import qr\n",
    "\n",
    "# Perform QR factorization on the training data\n",
    "Q_train, R_train = qr(X_train)\n",
    "\n",
    "# Transform the validation data using the R matrix obtained from the training data\n",
    "X_val_transformed = np.dot(X_val, np.linalg.inv(R_train[:X_val.shape[1], :]))\n",
    "\n",
    "# Transform the test data using the R matrix obtained from the training data\n",
    "X_test_transformed = np.dot(X_test, np.linalg.inv(R_train[:X_test.shape[1], :]))"
   ]
  },
  {
   "cell_type": "markdown",
   "metadata": {},
   "source": [
    "### Refining the Parameters"
   ]
  },
  {
   "cell_type": "code",
   "execution_count": null,
   "metadata": {
    "scrolled": true
   },
   "outputs": [
    {
     "name": "stdout",
     "output_type": "stream",
     "text": [
      "Fitting 5 folds for each of 100 candidates, totalling 500 fits\n"
     ]
    },
    {
     "name": "stderr",
     "output_type": "stream",
     "text": [
      "[Parallel(n_jobs=-1)]: Using backend LokyBackend with 16 concurrent workers.\n",
      "[Parallel(n_jobs=-1)]: Done   9 tasks      | elapsed:    8.1s\n",
      "[Parallel(n_jobs=-1)]: Done 130 tasks      | elapsed:   45.7s\n",
      "[Parallel(n_jobs=-1)]: Done 333 tasks      | elapsed: 1250.3min\n"
     ]
    }
   ],
   "source": [
    "param_dist = {\n",
    "    'C': uniform(loc=0, scale=4),\n",
    "    'gamma': uniform(loc=0, scale=0.1),\n",
    "    'kernel': ['linear', 'poly', 'rbf', 'sigmoid'],\n",
    "    'degree': randint(2, 6),\n",
    "    'coef0': uniform(loc=0, scale=1)\n",
    "}\n",
    "\n",
    "from sklearn.model_selection import RandomizedSearchCV\n",
    "\n",
    "svm_classifier = SVC(probability=True)\n",
    "\n",
    "random_search = RandomizedSearchCV(\n",
    "    svm_classifier,\n",
    "    param_distributions=param_dist,\n",
    "    n_iter=100,\n",
    "    cv=5,\n",
    "    verbose=2,\n",
    "    n_jobs=-1,\n",
    "    random_state=42\n",
    ")\n",
    "\n",
    "random_search.fit(X_val_transformed, y_val)\n",
    "\n",
    "from sklearn.feature_selection import RFECV\n",
    "\n",
    "svm_classifier_best = random_search.best_estimator_\n",
    "\n",
    "rfe_cv = RFECV(svm_classifier_best, step=5, cv=5, scoring='accuracy', n_jobs=-1, verbose=2)\n",
    "rfe_cv.fit(X_val_transformed, y_val)\n",
    "\n",
    "\n",
    "print(\"Optimal number of features : %d\" % rfe_cv.n_features_)"
   ]
  },
  {
   "cell_type": "code",
   "execution_count": null,
   "metadata": {},
   "outputs": [],
   "source": [
    "importances = rfe_cv.grid_scores_\n",
    "indices = np.argsort(importances)[::-1]\n",
    "column_names = features.columns\n",
    "\n",
    "print(\"Feature Ranking (Top 30):\")\n",
    "\n",
    "for i in range(30):\n",
    "    index = indices[i]\n",
    "    column_name = column_names[index]\n",
    "    importance = importances[index]\n",
    "    print(f\"{i + 1}. {column_name} (Importance: {importance:.4f})\")\n",
    "\n",
    "\n"
   ]
  },
  {
   "cell_type": "markdown",
   "metadata": {},
   "source": [
    "### Training the SVM"
   ]
  },
  {
   "cell_type": "code",
   "execution_count": null,
   "metadata": {
    "scrolled": false
   },
   "outputs": [],
   "source": [
    "best_features = selector.get_support(indices=True)\n",
    "X_train_selected = X_train[:, best_features]\n",
    "X_val_selected = X_val[:, best_features]\n",
    "\n",
    "# Retrieve the best hyperparameters from the RandomizedSearchCV\n",
    "best_params = random_search.best_params_\n",
    "\n",
    "# Create an SVM classifier with the best hyperparameters\n",
    "svm_clf = SVC(**best_params)\n",
    "\n",
    "# Train the SVM classifier using the selected features\n",
    "svm_clf.fit(X_train_selected, y_train)"
   ]
  },
  {
   "cell_type": "markdown",
   "metadata": {},
   "source": [
    "### Evaluation"
   ]
  },
  {
   "cell_type": "code",
   "execution_count": null,
   "metadata": {
    "scrolled": false
   },
   "outputs": [],
   "source": [
    "import matplotlib.pyplot as plt\n",
    "import seaborn as sns\n",
    "from sklearn.metrics import confusion_matrix, roc_curve, roc_auc_score, precision_recall_curve, average_precision_score\n",
    "\n",
    "\n",
    "def print_metrics(y_true, y_pred, label):\n",
    "    accuracy = accuracy_score(y_true, y_pred)\n",
    "    precision = precision_score(y_true, y_pred)\n",
    "    recall = recall_score(y_true, y_pred)\n",
    "    f1 = f1_score(y_true, y_pred)\n",
    "\n",
    "    print(f\"{label} - Accuracy: {accuracy:.4f}\")\n",
    "    print(f\"{label} - Precision: {precision:.4f}\")\n",
    "    print(f\"{label} - Recall: {recall:.4f}\")\n",
    "    print(f\"{label} - F1 Score: {f1:.4f}\")\n",
    "\n",
    "y_train_pred = svm_clf.predict_proba(X_train_selected)\n",
    "print_metrics(y_train, y_train_pred, \"Training\")\n",
    "\n",
    "y_val_pred = svm_clf.predict_proba(X_val_selected)\n",
    "print_metrics(y_val, y_val_pred, \"Validation\")\n",
    "\n",
    "X_test_selected = X_test[:, best_features]\n",
    "y_test_pred = svm_clf.predict_proba(X_test_selected)\n",
    "print_metrics(y_test, y_test_pred, \"Test\")\n",
    "\n",
    "y_val_pred = svm_clf.predict_proba(X_val_selected)\n",
    "\n",
    "cm = confusion_matrix(y_val, y_val_pred)\n",
    "sns.heatmap(cm, annot=True, fmt='d', cmap='Blues', cbar=False)\n",
    "plt.xlabel('Predicted')\n",
    "plt.ylabel('Actual')\n",
    "plt.title('Confusion Matrix for Validation Set')\n",
    "plt.show()\n",
    "\n",
    "y_val_proba = svm_clf.decision_function(X_val_selected)\n",
    "\n",
    "fpr, tpr, _ = roc_curve(y_val, y_val_proba)\n",
    "auc = roc_auc_score(y_val, y_val_proba)\n",
    "\n",
    "plt.figure()\n",
    "plt.plot(fpr, tpr, label=f'AUC = {auc:.2f}')\n",
    "plt.plot([0, 1], [0, 1], 'k--')\n",
    "plt.xlim([0.0, 1.0])\n",
    "plt.ylim([0.0, 1.05])\n",
    "plt.xlabel('False Positive Rate')\n",
    "plt.ylabel('True Positive Rate')\n",
    "plt.title('ROC Curve for Validation Set')\n",
    "plt.legend(loc='lower right')\n",
    "plt.show()\n",
    "\n",
    "\n",
    "precision, recall, _ = precision_recall_curve(y_val, y_val_proba)\n",
    "average_precision = average_precision_score(y_val, y_val_proba)\n",
    "\n",
    "plt.figure()\n",
    "plt.step(recall, precision, where='post')\n",
    "plt.xlabel('Recall')\n",
    "plt.ylabel('Precision')\n",
    "plt.ylim([0.0, 1.05])\n",
    "plt.xlim([0.0, 1.0])\n",
    "plt.title(f'Precision-Recall curve for Validation Set: AP={average_precision:.2f}')\n",
    "plt.show()\n"
   ]
  },
  {
   "cell_type": "code",
   "execution_count": null,
   "metadata": {},
   "outputs": [],
   "source": []
  }
 ],
 "metadata": {
  "kernelspec": {
   "display_name": "Python 3",
   "language": "python",
   "name": "python3"
  },
  "language_info": {
   "codemirror_mode": {
    "name": "ipython",
    "version": 3
   },
   "file_extension": ".py",
   "mimetype": "text/x-python",
   "name": "python",
   "nbconvert_exporter": "python",
   "pygments_lexer": "ipython3",
   "version": "3.8.5"
  }
 },
 "nbformat": 4,
 "nbformat_minor": 4
}
