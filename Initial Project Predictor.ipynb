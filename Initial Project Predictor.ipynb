{
 "cells": [
  {
   "cell_type": "markdown",
   "metadata": {},
   "source": [
    "# MMA Fight Outcome Model"
   ]
  },
  {
   "cell_type": "markdown",
   "metadata": {},
   "source": [
    "The purpose of this project is to create a binary classification model to predict the outcome of an MMA fight (win or loss for a given fighter) based on a set of features extracted from the database found at https://www.kaggle.com/datasets/danmcinerney/mma-differentials-and-elo?select=masterMLpublic.csv\n",
    "\n",
    "The database consists of over 6000 unique fights and 513 feature columns for which data is collected on each fight. This project will explore two distinct models. The first will tackle the problem using a feed-forward neural network, whereas the second model will utilise an SVM classifier.\n",
    "\n",
    "#### For more information on the problem statement and methodology, please read Summary.pdf or README.md"
   ]
  },
  {
   "cell_type": "markdown",
   "metadata": {},
   "source": [
    "## I. DATA PREPROCESSING"
   ]
  },
  {
   "cell_type": "code",
   "execution_count": 10,
   "metadata": {},
   "outputs": [],
   "source": [
    "import pandas as pd\n",
    "import numpy as np\n",
    "from sklearn.model_selection import train_test_split\n",
    "from sklearn.preprocessing import StandardScaler\n",
    "\n",
    "# REMOVING ENTRIES WITH MISSING DATA\n",
    "\n",
    "data = pd.read_csv('masterdataframe.csv')\n",
    "data = data.dropna()\n",
    "start_col = data.columns.get_loc(\"reach\") \n",
    "end_col = data.columns.get_loc(\"precomp_recent_avg_ground_strikes_attempts_per_min\") + 1  \n",
    "features = data.iloc[:, start_col:end_col]\n",
    "target = data['result']  \n",
    "\n",
    "# SPLITTING DATA INTO TRAINING, VALIDATION, TESTING SETS\n",
    "\n",
    "X_train, X_temp, y_train, y_temp = train_test_split(features, target, test_size=0.4, random_state=42)\n",
    "X_val, X_test, y_val, y_test = train_test_split(X_temp, y_temp, test_size=0.5, random_state=42)\n",
    "\n",
    "# NORMALISING\n",
    "\n",
    "scaler = StandardScaler()\n",
    "X_train = scaler.fit_transform(X_train)\n",
    "X_val = scaler.transform(X_val)\n",
    "X_test = scaler.transform(X_test)"
   ]
  },
  {
   "cell_type": "markdown",
   "metadata": {},
   "source": [
    "### Example visualisation of processed data for feature 200"
   ]
  },
  {
   "cell_type": "code",
   "execution_count": 11,
   "metadata": {},
   "outputs": [
    {
     "data": {
      "image/png": "[encoded data removed]",
      "text/plain": [
       "<Figure size 720x360 with 2 Axes>"
      ]
     },
     "metadata": {
      "needs_background": "light"
     },
     "output_type": "display_data"
    }
   ],
   "source": [
    "import matplotlib.pyplot as plt\n",
    "\n",
    "feature_idx = 200  # Choose the index of the feature you want to plot\n",
    "original_feature = data.iloc[:, start_col + feature_idx]\n",
    "normalized_feature = X_train[:, feature_idx]\n",
    "\n",
    "plt.figure(figsize=(10, 5))\n",
    "plt.subplot(1, 2, 1)\n",
    "plt.hist(original_feature, bins=30)\n",
    "plt.title('Original feature')\n",
    "plt.subplot(1, 2, 2)\n",
    "plt.hist(normalized_feature, bins=30)\n",
    "plt.title('Normalized feature')\n",
    "plt.show()\n"
   ]
  },
  {
   "cell_type": "markdown",
   "metadata": {},
   "source": [
    "## II. DEVELOPING MODEL 1: LOGISTIC REGRESSION AND A NEURAL NETWORK\n",
    "\n",
    "### Least Squares Approximation using LU Factorisation"
   ]
  },
  {
   "cell_type": "code",
   "execution_count": 12,
   "metadata": {},
   "outputs": [],
   "source": [
    "import scipy.linalg as la\n",
    "\n",
    "X_train = np.hstack([np.ones((X_train.shape[0], 1)), X_train])\n",
    "X_val = np.hstack([np.ones((X_val.shape[0], 1)), X_val])\n",
    "X_test = np.hstack([np.ones((X_test.shape[0], 1)), X_test])\n",
    "\n",
    "alpha = 1e-3  # Regularization strength \n",
    "XtX = X_train.T @ X_train + alpha * np.eye(X_train.shape[1])\n",
    "\n",
    "\n",
    "# XtX = X_train.T @ X_train\n",
    "Xty = X_train.T @ y_train\n",
    "\n",
    "# LU Factorization\n",
    "P, L, U = la.lu(XtX)\n",
    "\n",
    "# Forward substitution\n",
    "y_temp = la.solve(L, P @ Xty)\n",
    "\n",
    "# Backward substitution\n",
    "w = la.solve(U, y_temp)\n",
    "\n",
    "def logistic_function(x):\n",
    "    return 1 / (1 + np.exp(-x))\n",
    "\n",
    "y_train_pred = logistic_function(X_train @ w)\n",
    "y_val_pred = logistic_function(X_val @ w)\n",
    "y_test_pred = logistic_function(X_test @ w)\n",
    "\n",
    "\n",
    "threshold = 0.5\n",
    "y_train_pred_label = (y_train_pred >= threshold).astype(int)\n",
    "y_val_pred_label = (y_val_pred >= threshold).astype(int)\n",
    "y_test_pred_label = (y_test_pred >= threshold).astype(int)\n"
   ]
  },
  {
   "cell_type": "code",
   "execution_count": 13,
   "metadata": {},
   "outputs": [
    {
     "name": "stdout",
     "output_type": "stream",
     "text": [
      "Training set evaluation:\n",
      "Accuracy: 0.493\n",
      "Precision: 0.490\n",
      "Recall: 0.510\n",
      "F1 score: 0.500\n",
      "\n",
      "Validation set evaluation:\n",
      "Accuracy: 0.510\n",
      "Precision: 0.506\n",
      "Recall: 0.500\n",
      "F1 score: 0.503\n",
      "\n",
      "Test set evaluation:\n",
      "Accuracy: 0.517\n",
      "Precision: 0.505\n",
      "Recall: 0.541\n",
      "F1 score 0.522\n"
     ]
    }
   ],
   "source": [
    "from sklearn.metrics import accuracy_score, precision_score, recall_score, f1_score\n",
    "\n",
    "accuracy_train = accuracy_score(y_train, y_train_pred_label)\n",
    "precision_train = precision_score(y_train, y_train_pred_label)\n",
    "recall_train = recall_score(y_train, y_train_pred_label)\n",
    "f1_train = f1_score(y_train, y_train_pred_label)\n",
    "\n",
    "accuracy_val = accuracy_score(y_val, y_val_pred_label)\n",
    "precision_val = precision_score(y_val, y_val_pred_label)\n",
    "recall_val = recall_score(y_val, y_val_pred_label)\n",
    "f1_val = f1_score(y_val, y_val_pred_label)\n",
    "\n",
    "accuracy_test = accuracy_score(y_test, y_test_pred_label)\n",
    "precision_test = precision_score(y_test, y_test_pred_label)\n",
    "recall_test = recall_score(y_test, y_test_pred_label)\n",
    "f1_test = f1_score(y_test, y_test_pred_label)\n",
    "\n",
    "print(\"Training set evaluation:\")\n",
    "print(f\"Accuracy: {accuracy_train:.3f}\")\n",
    "print(f\"Precision: {precision_train:.3f}\")\n",
    "print(f\"Recall: {recall_train:.3f}\")\n",
    "print(f\"F1 score: {f1_train:.3f}\")\n",
    "\n",
    "print(\"\\nValidation set evaluation:\")\n",
    "print(f\"Accuracy: {accuracy_val:.3f}\")\n",
    "print(f\"Precision: {precision_val:.3f}\")\n",
    "print(f\"Recall: {recall_val:.3f}\")\n",
    "print(f\"F1 score: {f1_val:.3f}\")\n",
    "\n",
    "print(\"\\nTest set evaluation:\")\n",
    "print(f\"Accuracy: {accuracy_test:.3f}\")\n",
    "print(f\"Precision: {precision_test:.3f}\")\n",
    "print(f\"Recall: {recall_test:.3f}\")\n",
    "print(f\"F1 score {f1_test:.3f}\")\n"
   ]
  },
  {
   "cell_type": "markdown",
   "metadata": {},
   "source": [
    "### Refining the Logistic Regression: Elastic Net Regularisation"
   ]
  },
  {
   "cell_type": "code",
   "execution_count": 14,
   "metadata": {},
   "outputs": [
    {
     "name": "stdout",
     "output_type": "stream",
     "text": [
      "Training set evaluation:\n",
      "Accuracy: 0.862\n",
      "Precision: 0.851\n",
      "Recall: 0.875\n",
      "F1 score: 0.863\n",
      "\n",
      "Validation set evaluation:\n",
      "Accuracy: 0.821\n",
      "Precision: 0.827\n",
      "Recall: 0.807\n",
      "F1 score: 0.817\n",
      "\n",
      "Test set evaluation:\n",
      "Accuracy: 0.811\n",
      "Precision: 0.805\n",
      "Recall: 0.808\n",
      "F1 score 0.806\n"
     ]
    }
   ],
   "source": [
    "from sklearn.linear_model import SGDClassifier\n",
    "\n",
    "# Prepare the data\n",
    "X_train = np.hstack([np.ones((X_train.shape[0], 1)), X_train])\n",
    "X_val = np.hstack([np.ones((X_val.shape[0], 1)), X_val])\n",
    "X_test = np.hstack([np.ones((X_test.shape[0], 1)), X_test])\n",
    "\n",
    "# Set regularization hyperparameters\n",
    "alpha = 1e-3  # Regularization strength\n",
    "l1_ratio = 0.5  # Ratio between L1 and L2 regularization\n",
    "\n",
    "# Train the Elastic Net regularized logistic regression model\n",
    "model = SGDClassifier(loss='log', penalty='elasticnet', alpha=alpha, l1_ratio=l1_ratio, random_state=42)\n",
    "model.fit(X_train, y_train)\n",
    "\n",
    "# Predict labels and probabilities\n",
    "y_train_pred_label = model.predict(X_train)\n",
    "y_train_pred = model.predict_proba(X_train)[:, 1]\n",
    "\n",
    "y_val_pred_label = model.predict(X_val)\n",
    "y_val_pred = model.predict_proba(X_val)[:, 1]\n",
    "\n",
    "y_test_pred_label = model.predict(X_test)\n",
    "y_test_pred = model.predict_proba(X_test)[:, 1]\n",
    "\n",
    "# Evaluate the model\n",
    "from sklearn.metrics import accuracy_score, precision_score, recall_score, f1_score\n",
    "\n",
    "accuracy_train = accuracy_score(y_train, y_train_pred_label)\n",
    "precision_train = precision_score(y_train, y_train_pred_label)\n",
    "recall_train = recall_score(y_train, y_train_pred_label)\n",
    "f1_train = f1_score(y_train, y_train_pred_label)\n",
    "\n",
    "accuracy_val = accuracy_score(y_val, y_val_pred_label)\n",
    "precision_val = precision_score(y_val, y_val_pred_label)\n",
    "recall_val = recall_score(y_val, y_val_pred_label)\n",
    "f1_val = f1_score(y_val, y_val_pred_label)\n",
    "\n",
    "accuracy_test = accuracy_score(y_test, y_test_pred_label)\n",
    "precision_test = precision_score(y_test, y_test_pred_label)\n",
    "recall_test = recall_score(y_test, y_test_pred_label)\n",
    "f1_test = f1_score(y_test, y_test_pred_label)\n",
    "\n",
    "print(\"Training set evaluation:\")\n",
    "print(f\"Accuracy: {accuracy_train:.3f}\")\n",
    "print(f\"Precision: {precision_train:.3f}\")\n",
    "print(f\"Recall: {recall_train:.3f}\")\n",
    "print(f\"F1 score: {f1_train:.3f}\")\n",
    "\n",
    "print(\"\\nValidation set evaluation:\")\n",
    "print(f\"Accuracy: {accuracy_val:.3f}\")\n",
    "print(f\"Precision: {precision_val:.3f}\")\n",
    "print(f\"Recall: {recall_val:.3f}\")\n",
    "print(f\"F1 score: {f1_val:.3f}\")\n",
    "\n",
    "print(\"\\nTest set evaluation:\")\n",
    "print(f\"Accuracy: {accuracy_test:.3f}\")\n",
    "print(f\"Precision: {precision_test:.3f}\")\n",
    "print(f\"Recall: {recall_test:.3f}\")\n",
    "print(f\"F1 score {f1_test:.3f}\")\n"
   ]
  },
  {
   "cell_type": "markdown",
   "metadata": {},
   "source": [
    "### Introducing a Feed-foward Neural Network"
   ]
  },
  {
   "cell_type": "code",
   "execution_count": 15,
   "metadata": {},
   "outputs": [
    {
     "name": "stdout",
     "output_type": "stream",
     "text": [
      "Epoch 1/50\n",
      "114/114 [==============================] - 1s 3ms/step - loss: 0.5456 - accuracy: 0.4964 - val_loss: 0.4575 - val_accuracy: 0.4955\n",
      "Epoch 2/50\n",
      "114/114 [==============================] - 0s 1ms/step - loss: 0.4301 - accuracy: 0.4964 - val_loss: 0.4297 - val_accuracy: 0.4955\n",
      "Epoch 3/50\n",
      "114/114 [==============================] - 0s 1ms/step - loss: 0.4014 - accuracy: 0.4964 - val_loss: 0.4095 - val_accuracy: 0.4955\n",
      "Epoch 4/50\n",
      "114/114 [==============================] - 0s 1ms/step - loss: 0.3848 - accuracy: 0.4964 - val_loss: 0.3966 - val_accuracy: 0.4955\n",
      "Epoch 5/50\n",
      "114/114 [==============================] - 0s 1ms/step - loss: 0.3745 - accuracy: 0.4964 - val_loss: 0.3946 - val_accuracy: 0.4955\n",
      "Epoch 6/50\n",
      "114/114 [==============================] - 0s 1ms/step - loss: 0.3663 - accuracy: 0.4964 - val_loss: 0.3909 - val_accuracy: 0.4955\n",
      "Epoch 7/50\n",
      "114/114 [==============================] - 0s 1ms/step - loss: 0.3595 - accuracy: 0.4964 - val_loss: 0.3950 - val_accuracy: 0.4955\n",
      "Epoch 8/50\n",
      "114/114 [==============================] - 0s 1ms/step - loss: 0.3557 - accuracy: 0.4964 - val_loss: 0.3931 - val_accuracy: 0.4955\n",
      "Epoch 9/50\n",
      "114/114 [==============================] - 0s 1ms/step - loss: 0.3516 - accuracy: 0.4964 - val_loss: 0.3922 - val_accuracy: 0.4955\n",
      "Epoch 10/50\n",
      "114/114 [==============================] - 0s 1ms/step - loss: 0.3470 - accuracy: 0.4964 - val_loss: 0.3926 - val_accuracy: 0.4955\n",
      "Epoch 11/50\n",
      "114/114 [==============================] - 0s 1ms/step - loss: 0.3449 - accuracy: 0.4964 - val_loss: 0.3895 - val_accuracy: 0.4955\n",
      "Epoch 12/50\n",
      "114/114 [==============================] - 0s 1ms/step - loss: 0.3425 - accuracy: 0.4964 - val_loss: 0.3907 - val_accuracy: 0.4955\n",
      "Epoch 13/50\n",
      "114/114 [==============================] - 0s 1ms/step - loss: 0.3403 - accuracy: 0.4964 - val_loss: 0.3943 - val_accuracy: 0.4955\n",
      "Epoch 14/50\n",
      "114/114 [==============================] - 0s 1ms/step - loss: 0.3387 - accuracy: 0.4964 - val_loss: 0.3948 - val_accuracy: 0.4955\n",
      "Epoch 15/50\n",
      "114/114 [==============================] - 0s 1ms/step - loss: 0.3369 - accuracy: 0.4964 - val_loss: 0.3961 - val_accuracy: 0.4955\n",
      "Epoch 16/50\n",
      "114/114 [==============================] - 0s 1ms/step - loss: 0.3333 - accuracy: 0.4964 - val_loss: 0.3945 - val_accuracy: 0.4955\n",
      "Epoch 17/50\n",
      "114/114 [==============================] - 0s 1ms/step - loss: 0.3352 - accuracy: 0.4964 - val_loss: 0.3949 - val_accuracy: 0.4955\n",
      "Epoch 18/50\n",
      "114/114 [==============================] - 0s 1ms/step - loss: 0.3319 - accuracy: 0.4964 - val_loss: 0.3951 - val_accuracy: 0.4955\n",
      "Epoch 19/50\n",
      "114/114 [==============================] - 0s 1ms/step - loss: 0.3308 - accuracy: 0.4964 - val_loss: 0.3984 - val_accuracy: 0.4955\n",
      "Epoch 20/50\n",
      "114/114 [==============================] - 0s 1ms/step - loss: 0.3300 - accuracy: 0.4964 - val_loss: 0.3958 - val_accuracy: 0.4955\n",
      "Epoch 21/50\n",
      "114/114 [==============================] - 0s 1ms/step - loss: 0.3280 - accuracy: 0.4964 - val_loss: 0.4013 - val_accuracy: 0.4955\n",
      "Epoch 22/50\n",
      "114/114 [==============================] - 0s 1ms/step - loss: 0.3269 - accuracy: 0.4964 - val_loss: 0.4028 - val_accuracy: 0.4955\n",
      "Epoch 23/50\n",
      "114/114 [==============================] - 0s 1ms/step - loss: 0.3253 - accuracy: 0.4964 - val_loss: 0.3985 - val_accuracy: 0.4955\n",
      "Epoch 24/50\n",
      "114/114 [==============================] - 0s 1ms/step - loss: 0.3259 - accuracy: 0.4964 - val_loss: 0.4049 - val_accuracy: 0.4955\n",
      "Epoch 25/50\n",
      "114/114 [==============================] - 0s 1ms/step - loss: 0.3252 - accuracy: 0.4964 - val_loss: 0.4037 - val_accuracy: 0.4955\n",
      "Epoch 26/50\n",
      "114/114 [==============================] - 0s 1ms/step - loss: 0.3234 - accuracy: 0.4964 - val_loss: 0.3987 - val_accuracy: 0.4955\n",
      "Epoch 27/50\n",
      "114/114 [==============================] - 0s 1ms/step - loss: 0.3234 - accuracy: 0.4964 - val_loss: 0.3988 - val_accuracy: 0.4955\n",
      "Epoch 28/50\n",
      "114/114 [==============================] - 0s 1ms/step - loss: 0.3219 - accuracy: 0.4964 - val_loss: 0.4020 - val_accuracy: 0.4955\n",
      "Epoch 29/50\n",
      "114/114 [==============================] - 0s 1ms/step - loss: 0.3201 - accuracy: 0.4964 - val_loss: 0.4036 - val_accuracy: 0.4955\n",
      "Epoch 30/50\n",
      "114/114 [==============================] - 0s 1ms/step - loss: 0.3209 - accuracy: 0.4964 - val_loss: 0.4011 - val_accuracy: 0.4955\n",
      "Epoch 31/50\n",
      "114/114 [==============================] - 0s 1ms/step - loss: 0.3197 - accuracy: 0.4964 - val_loss: 0.4041 - val_accuracy: 0.4955\n",
      "Epoch 32/50\n",
      "114/114 [==============================] - 0s 1ms/step - loss: 0.3191 - accuracy: 0.4964 - val_loss: 0.4055 - val_accuracy: 0.4955\n",
      "Epoch 33/50\n",
      "114/114 [==============================] - 0s 1ms/step - loss: 0.3188 - accuracy: 0.4964 - val_loss: 0.4043 - val_accuracy: 0.4955\n",
      "Epoch 34/50\n",
      "114/114 [==============================] - 0s 1ms/step - loss: 0.3179 - accuracy: 0.4964 - val_loss: 0.4059 - val_accuracy: 0.4955\n",
      "Epoch 35/50\n",
      "114/114 [==============================] - 0s 1ms/step - loss: 0.3167 - accuracy: 0.4964 - val_loss: 0.4070 - val_accuracy: 0.4955\n",
      "Epoch 36/50\n",
      "114/114 [==============================] - 0s 1ms/step - loss: 0.3169 - accuracy: 0.4964 - val_loss: 0.4104 - val_accuracy: 0.4955\n",
      "Epoch 37/50\n",
      "114/114 [==============================] - 0s 1ms/step - loss: 0.3169 - accuracy: 0.4964 - val_loss: 0.4060 - val_accuracy: 0.4955\n",
      "Epoch 38/50\n",
      "114/114 [==============================] - 0s 1ms/step - loss: 0.3160 - accuracy: 0.4964 - val_loss: 0.4056 - val_accuracy: 0.4955\n",
      "Epoch 39/50\n",
      "114/114 [==============================] - 0s 1ms/step - loss: 0.3160 - accuracy: 0.4964 - val_loss: 0.4106 - val_accuracy: 0.4955\n",
      "Epoch 40/50\n",
      "114/114 [==============================] - 0s 1ms/step - loss: 0.3157 - accuracy: 0.4964 - val_loss: 0.4105 - val_accuracy: 0.4955\n",
      "Epoch 41/50\n",
      "114/114 [==============================] - 0s 1ms/step - loss: 0.3141 - accuracy: 0.4964 - val_loss: 0.4071 - val_accuracy: 0.4955\n",
      "Epoch 42/50\n",
      "114/114 [==============================] - 0s 1ms/step - loss: 0.3148 - accuracy: 0.4964 - val_loss: 0.4082 - val_accuracy: 0.4955\n",
      "Epoch 43/50\n",
      "114/114 [==============================] - 0s 1ms/step - loss: 0.3143 - accuracy: 0.4964 - val_loss: 0.4054 - val_accuracy: 0.4955\n",
      "Epoch 44/50\n",
      "114/114 [==============================] - 0s 1ms/step - loss: 0.3139 - accuracy: 0.4964 - val_loss: 0.4104 - val_accuracy: 0.4955\n",
      "Epoch 45/50\n",
      "114/114 [==============================] - 0s 1ms/step - loss: 0.3140 - accuracy: 0.4964 - val_loss: 0.4123 - val_accuracy: 0.4955\n",
      "Epoch 46/50\n",
      "114/114 [==============================] - 0s 1ms/step - loss: 0.3136 - accuracy: 0.4964 - val_loss: 0.4085 - val_accuracy: 0.4955\n",
      "Epoch 47/50\n",
      "114/114 [==============================] - 0s 1ms/step - loss: 0.3118 - accuracy: 0.4964 - val_loss: 0.4112 - val_accuracy: 0.4955\n",
      "Epoch 48/50\n",
      "114/114 [==============================] - 0s 1ms/step - loss: 0.3120 - accuracy: 0.4964 - val_loss: 0.4154 - val_accuracy: 0.4955\n",
      "Epoch 49/50\n",
      "114/114 [==============================] - 0s 1ms/step - loss: 0.3114 - accuracy: 0.4964 - val_loss: 0.4114 - val_accuracy: 0.4955\n",
      "Epoch 50/50\n",
      "114/114 [==============================] - 0s 1ms/step - loss: 0.3108 - accuracy: 0.4964 - val_loss: 0.4171 - val_accuracy: 0.4955\n",
      "38/38 [==============================] - 0s 834us/step - loss: 0.4304 - accuracy: 0.4877\n",
      "Test loss: 0.43041521310806274, Test accuracy: 0.48766446113586426\n"
     ]
    }
   ],
   "source": [
    "import tensorflow as tf\n",
    "from tensorflow.keras import layers, models\n",
    "\n",
    "def sigmoid(x):\n",
    "    return 1 / (1 + np.exp(-x))\n",
    "\n",
    "# Identify significant independent variables\n",
    "significant_variables = np.where(np.abs(w[1:]) > 1e-2)[0]  # Adjust the threshold as needed\n",
    "X_train_nn = X_train[:, 1:][:, significant_variables]\n",
    "X_val_nn = X_val[:, 1:][:, significant_variables]\n",
    "X_test_nn = X_test[:, 1:][:, significant_variables]\n",
    "\n",
    "# Add logistic regression predictions as an input\n",
    "X_train_nn = np.hstack([X_train_nn, y_train_pred.reshape(-1, 1)])\n",
    "X_val_nn = np.hstack([X_val_nn, y_val_pred.reshape(-1, 1)])\n",
    "X_test_nn = np.hstack([X_test_nn, y_test_pred.reshape(-1, 1)])\n",
    "\n",
    "# Create a simple feedforward neural network\n",
    "model = models.Sequential()\n",
    "model.add(layers.Dense(1, activation='sigmoid', input_shape=(X_train_nn.shape[1],)))\n",
    "\n",
    "# Compile the model\n",
    "model.compile(optimizer='adam', loss='binary_crossentropy', metrics=['accuracy'])\n",
    "\n",
    "# Train the model\n",
    "history = model.fit(X_train_nn, y_train, epochs=50, batch_size=32, validation_data=(X_val_nn, y_val), verbose=1)\n",
    "\n",
    "# Evaluate the model on the test set\n",
    "test_loss, test_accuracy = model.evaluate(X_test_nn, y_test)\n",
    "print(f\"Test loss: {test_loss}, Test accuracy: {test_accuracy}\")\n"
   ]
  },
  {
   "cell_type": "markdown",
   "metadata": {},
   "source": [
    "### Evaluation"
   ]
  },
  {
   "cell_type": "code",
   "execution_count": 16,
   "metadata": {
    "scrolled": false
   },
   "outputs": [
    {
     "name": "stdout",
     "output_type": "stream",
     "text": [
      "114/114 [==============================] - 0s 597us/step\n",
      "38/38 [==============================] - 0s 683us/step\n",
      "38/38 [==============================] - 0s 711us/step\n",
      "Training set evaluation:\n",
      "Accuracy: 0.496\n",
      "Precision: 0.496\n",
      "Recall: 1.000\n",
      "F1 score: 0.663\n",
      "\n",
      "Validation set evaluation:\n",
      "Accuracy: 0.495\n",
      "Precision: 0.495\n",
      "Recall: 1.000\n",
      "F1 score: 0.663\n",
      "\n",
      "Test set evaluation:\n",
      "Accuracy: 0.488\n",
      "Precision: 0.488\n",
      "Recall: 1.000\n",
      "F1 score 0.656\n"
     ]
    },
    {
     "data": {
      "image/png": "[encoded data removed]",
      "text/plain": [
       "<Figure size 432x288 with 1 Axes>"
      ]
     },
     "metadata": {
      "needs_background": "light"
     },
     "output_type": "display_data"
    },
    {
     "data": {
      "image/png": "[encoded data removed]",
      "text/plain": [
       "<Figure size 432x288 with 1 Axes>"
      ]
     },
     "metadata": {
      "needs_background": "light"
     },
     "output_type": "display_data"
    },
    {
     "data": {
      "image/png": "[encoded data removed]",
      "text/plain": [
       "<Figure size 432x288 with 1 Axes>"
      ]
     },
     "metadata": {
      "needs_background": "light"
     },
     "output_type": "display_data"
    }
   ],
   "source": [
    "from sklearn.metrics import accuracy_score, precision_score, recall_score, f1_score\n",
    "import matplotlib.pyplot as plt\n",
    "import seaborn as sns\n",
    "from sklearn.metrics import confusion_matrix, roc_curve, roc_auc_score, precision_recall_curve, average_precision_score, plot_confusion_matrix\n",
    "\n",
    "# Get the predictions from the hybrid model\n",
    "y_train_pred_nn = model.predict(X_train_nn)\n",
    "y_val_pred_nn = model.predict(X_val_nn)\n",
    "y_test_pred_nn = model.predict(X_test_nn)\n",
    "\n",
    "# Apply the threshold\n",
    "threshold = 0.5\n",
    "y_train_pred_label_nn = (y_train_pred_nn >= threshold).astype(int)\n",
    "y_val_pred_label_nn = (y_val_pred_nn >= threshold).astype(int)\n",
    "y_test_pred_label_nn = (y_test_pred_nn >= threshold).astype(int)\n",
    "\n",
    "# Calculate the evaluation metrics\n",
    "accuracy_train_nn = accuracy_score(y_train, y_train_pred_label_nn)\n",
    "precision_train_nn = precision_score(y_train, y_train_pred_label_nn)\n",
    "recall_train_nn = recall_score(y_train, y_train_pred_label_nn)\n",
    "f1_train_nn = f1_score(y_train, y_train_pred_label_nn)\n",
    "\n",
    "accuracy_val_nn = accuracy_score(y_val, y_val_pred_label_nn)\n",
    "precision_val_nn = precision_score(y_val, y_val_pred_label_nn)\n",
    "recall_val_nn = recall_score(y_val, y_val_pred_label_nn)\n",
    "f1_val_nn = f1_score(y_val, y_val_pred_label_nn)\n",
    "\n",
    "accuracy_test_nn = accuracy_score(y_test, y_test_pred_label_nn)\n",
    "precision_test_nn = precision_score(y_test, y_test_pred_label_nn)\n",
    "recall_test_nn = recall_score(y_test, y_test_pred_label_nn)\n",
    "f1_test_nn = f1_score(y_test, y_test_pred_label_nn)\n",
    "\n",
    "# Print the evaluation results\n",
    "print(\"Training set evaluation:\")\n",
    "print(f\"Accuracy: {accuracy_train_nn:.3f}\")\n",
    "print(f\"Precision: {precision_train_nn:.3f}\")\n",
    "print(f\"Recall: {recall_train_nn:.3f}\")\n",
    "print(f\"F1 score: {f1_train_nn:.3f}\")\n",
    "\n",
    "print(\"\\nValidation set evaluation:\")\n",
    "print(f\"Accuracy: {accuracy_val_nn:.3f}\")\n",
    "print(f\"Precision: {precision_val_nn:.3f}\")\n",
    "print(f\"Recall: {recall_val_nn:.3f}\")\n",
    "print(f\"F1 score: {f1_val_nn:.3f}\")\n",
    "\n",
    "print(\"\\nTest set evaluation:\")\n",
    "print(f\"Accuracy: {accuracy_test_nn:.3f}\")\n",
    "print(f\"Precision: {precision_test_nn:.3f}\")\n",
    "print(f\"Recall: {recall_test_nn:.3f}\")\n",
    "print(f\"F1 score {f1_test_nn:.3f}\")\n",
    "\n",
    "\n",
    "\n",
    "cm = confusion_matrix(y_val, y_val_pred_label)\n",
    "sns.heatmap(cm, annot=True, fmt='d', cmap='Blues', cbar=False)\n",
    "plt.xlabel('Predicted')\n",
    "plt.ylabel('Actual')\n",
    "plt.title('Confusion Matrix for Validation Set')\n",
    "plt.show()\n",
    "\n",
    "y_val_proba = y_val_pred  # Use predicted probabilities from the logistic function\n",
    "\n",
    "fpr, tpr, _ = roc_curve(y_val, y_val_proba)\n",
    "auc = roc_auc_score(y_val, y_val_proba)\n",
    "\n",
    "plt.figure()\n",
    "plt.plot(fpr, tpr, label=f'AUC = {auc:.2f}')\n",
    "plt.plot([0, 1], [0, 1], 'k--')\n",
    "plt.xlim([0.0, 1.0])\n",
    "plt.ylim([0.0, 1.05])\n",
    "plt.xlabel('False Positive Rate')\n",
    "plt.ylabel('True Positive Rate')\n",
    "plt.title('ROC Curve for Validation Set')\n",
    "plt.legend(loc='lower right')\n",
    "plt.show()\n",
    "\n",
    "precision, recall, _ = precision_recall_curve(y_val, y_val_proba)\n",
    "average_precision = average_precision_score(y_val, y_val_proba)\n",
    "\n",
    "plt.figure()\n",
    "plt.step(recall, precision, where='post')\n",
    "plt.xlabel('Recall')\n",
    "plt.ylabel('Precision')\n",
    "plt.ylim([0.0, 1.05])\n",
    "plt.xlim([0.0, 1.0])\n",
    "plt.title(f'Precision-Recall curve for Validation Set: AP={average_precision:.2f}')\n",
    "plt.show()\n"
   ]
  },
  {
   "cell_type": "markdown",
   "metadata": {},
   "source": [
    "## III. DEVELOPING MODEL 2: SVM Classifier using QR Factorisation"
   ]
  },
  {
   "cell_type": "markdown",
   "metadata": {},
   "source": [
    "### Performing the QR Decomposition"
   ]
  },
  {
   "cell_type": "code",
   "execution_count": null,
   "metadata": {},
   "outputs": [],
   "source": [
    "from scipy.stats import uniform, randint\n",
    "from sklearn.svm import SVC\n",
    "from sklearn.metrics import accuracy_score\n",
    "from scipy.linalg import qr\n",
    "\n",
    "# Perform QR factorization on the training data\n",
    "Q_train, R_train = qr(X_train)\n",
    "\n",
    "# Transform the validation data using the R matrix obtained from the training data\n",
    "X_val_transformed = np.dot(X_val, np.linalg.inv(R_train[:X_val.shape[1], :]))\n",
    "\n",
    "# Transform the test data using the R matrix obtained from the training data\n",
    "X_test_transformed = np.dot(X_test, np.linalg.inv(R_train[:X_test.shape[1], :]))"
   ]
  },
  {
   "cell_type": "markdown",
   "metadata": {},
   "source": [
    "### Refining the Parameters"
   ]
  },
  {
   "cell_type": "code",
   "execution_count": 121,
   "metadata": {
    "scrolled": true
   },
   "outputs": [
    {
     "name": "stdout",
     "output_type": "stream",
     "text": [
      "Fitting 5 folds for each of 100 candidates, totalling 500 fits\n"
     ]
    },
    {
     "name": "stderr",
     "output_type": "stream",
     "text": [
      "[Parallel(n_jobs=-1)]: Using backend LokyBackend with 16 concurrent workers.\n",
      "[Parallel(n_jobs=-1)]: Done   9 tasks      | elapsed:    2.7s\n",
      "[Parallel(n_jobs=-1)]: Done 130 tasks      | elapsed:   21.0s\n",
      "[Parallel(n_jobs=-1)]: Done 333 tasks      | elapsed:   49.5s\n",
      "[Parallel(n_jobs=-1)]: Done 500 out of 500 | elapsed:  1.2min finished\n"
     ]
    },
    {
     "name": "stdout",
     "output_type": "stream",
     "text": [
      "Fitting estimator with 515 features.\n",
      "Fitting estimator with 510 features.\n",
      "Fitting estimator with 505 features.\n",
      "Fitting estimator with 500 features.\n",
      "Fitting estimator with 495 features.\n",
      "Fitting estimator with 490 features.\n",
      "Fitting estimator with 485 features.\n",
      "Fitting estimator with 480 features.\n",
      "Fitting estimator with 475 features.\n",
      "Fitting estimator with 470 features.\n",
      "Fitting estimator with 465 features.\n",
      "Fitting estimator with 460 features.\n",
      "Fitting estimator with 455 features.\n",
      "Fitting estimator with 450 features.\n",
      "Fitting estimator with 445 features.\n",
      "Fitting estimator with 440 features.\n",
      "Fitting estimator with 435 features.\n",
      "Fitting estimator with 430 features.\n",
      "Fitting estimator with 425 features.\n",
      "Fitting estimator with 420 features.\n",
      "Fitting estimator with 415 features.\n",
      "Fitting estimator with 410 features.\n",
      "Fitting estimator with 405 features.\n",
      "Fitting estimator with 400 features.\n",
      "Fitting estimator with 395 features.\n",
      "Fitting estimator with 390 features.\n",
      "Fitting estimator with 385 features.\n",
      "Fitting estimator with 380 features.\n",
      "Fitting estimator with 375 features.\n",
      "Fitting estimator with 370 features.\n",
      "Fitting estimator with 365 features.\n",
      "Fitting estimator with 360 features.\n",
      "Fitting estimator with 355 features.\n",
      "Fitting estimator with 350 features.\n",
      "Fitting estimator with 345 features.\n",
      "Fitting estimator with 340 features.\n",
      "Fitting estimator with 335 features.\n",
      "Fitting estimator with 330 features.\n",
      "Fitting estimator with 325 features.\n",
      "Fitting estimator with 320 features.\n",
      "Fitting estimator with 315 features.\n",
      "Fitting estimator with 310 features.\n",
      "Fitting estimator with 305 features.\n",
      "Fitting estimator with 300 features.\n",
      "Fitting estimator with 295 features.\n",
      "Fitting estimator with 290 features.\n",
      "Fitting estimator with 285 features.\n",
      "Fitting estimator with 280 features.\n",
      "Fitting estimator with 275 features.\n",
      "Fitting estimator with 270 features.\n",
      "Fitting estimator with 265 features.\n",
      "Fitting estimator with 260 features.\n",
      "Fitting estimator with 255 features.\n",
      "Fitting estimator with 250 features.\n",
      "Fitting estimator with 245 features.\n",
      "Fitting estimator with 240 features.\n",
      "Fitting estimator with 235 features.\n",
      "Fitting estimator with 230 features.\n",
      "Fitting estimator with 225 features.\n",
      "Fitting estimator with 220 features.\n",
      "Fitting estimator with 215 features.\n",
      "Fitting estimator with 210 features.\n",
      "Fitting estimator with 205 features.\n",
      "Fitting estimator with 200 features.\n",
      "Fitting estimator with 195 features.\n",
      "Fitting estimator with 190 features.\n",
      "Fitting estimator with 185 features.\n",
      "Fitting estimator with 180 features.\n",
      "Fitting estimator with 175 features.\n",
      "Fitting estimator with 170 features.\n",
      "Fitting estimator with 165 features.\n",
      "Fitting estimator with 160 features.\n",
      "Fitting estimator with 155 features.\n",
      "Fitting estimator with 150 features.\n",
      "Fitting estimator with 145 features.\n",
      "Fitting estimator with 140 features.\n",
      "Fitting estimator with 135 features.\n",
      "Fitting estimator with 130 features.\n",
      "Fitting estimator with 125 features.\n",
      "Fitting estimator with 120 features.\n",
      "Fitting estimator with 115 features.\n",
      "Fitting estimator with 110 features.\n",
      "Fitting estimator with 105 features.\n",
      "Fitting estimator with 100 features.\n",
      "Fitting estimator with 95 features.\n",
      "Fitting estimator with 90 features.\n",
      "Fitting estimator with 85 features.\n",
      "Fitting estimator with 80 features.\n",
      "Fitting estimator with 75 features.\n",
      "Fitting estimator with 70 features.\n",
      "Fitting estimator with 65 features.\n",
      "Fitting estimator with 60 features.\n",
      "Fitting estimator with 55 features.\n",
      "Fitting estimator with 50 features.\n",
      "Fitting estimator with 45 features.\n",
      "Fitting estimator with 40 features.\n",
      "Fitting estimator with 35 features.\n",
      "Optimal number of features : 30\n"
     ]
    }
   ],
   "source": [
    "param_dist = {\n",
    "    'C': uniform(loc=0, scale=4),\n",
    "    'gamma': uniform(loc=0, scale=0.1),\n",
    "    'kernel': ['linear', 'poly', 'rbf', 'sigmoid'],\n",
    "    'degree': randint(2, 6),\n",
    "    'coef0': uniform(loc=0, scale=1)\n",
    "}\n",
    "\n",
    "from sklearn.model_selection import RandomizedSearchCV\n",
    "\n",
    "svm_classifier = SVC()\n",
    "\n",
    "random_search = RandomizedSearchCV(\n",
    "    svm_classifier,\n",
    "    param_distributions=param_dist,\n",
    "    n_iter=100,\n",
    "    cv=5,\n",
    "    verbose=2,\n",
    "    n_jobs=-1,\n",
    "    random_state=42\n",
    ")\n",
    "\n",
    "random_search.fit(X_val_transformed, y_val)\n",
    "\n",
    "from sklearn.feature_selection import RFECV\n",
    "\n",
    "svm_classifier_best = random_search.best_estimator_\n",
    "\n",
    "rfe_cv = RFECV(svm_classifier_best, step=5, cv=5, scoring='accuracy', n_jobs=-1, verbose=2)\n",
    "rfe_cv.fit(X_val_transformed, y_val)\n",
    "\n",
    "\n",
    "print(\"Optimal number of features : %d\" % rfe_cv.n_features_)"
   ]
  },
  {
   "cell_type": "code",
   "execution_count": 123,
   "metadata": {},
   "outputs": [
    {
     "name": "stdout",
     "output_type": "stream",
     "text": [
      "Feature Ranking (Top 30):\n",
      "1. control (Importance: 0.7868)\n",
      "2. sub_attempts (Importance: 0.7844)\n",
      "3. reversals (Importance: 0.7827)\n",
      "4. takedowns_landed (Importance: 0.7770)\n",
      "5. takedowns_attempts (Importance: 0.7704)\n",
      "6. knockdowns (Importance: 0.7679)\n",
      "7. sig_strikes_attempts (Importance: 0.7663)\n",
      "8. sig_strikes_landed (Importance: 0.7621)\n",
      "9. age (Importance: 0.7588)\n",
      "10. total_strikes_landed (Importance: 0.7547)\n",
      "11. leg_strikes_landed (Importance: 0.7481)\n",
      "12. body_strikes_attempts (Importance: 0.7473)\n",
      "13. head_strikes_attempts (Importance: 0.7473)\n",
      "14. leg_strikes_attempts (Importance: 0.7449)\n",
      "15. body_strikes_landed (Importance: 0.7449)\n",
      "16. distance_strikes_attempts (Importance: 0.7416)\n",
      "17. distance_strikes_landed (Importance: 0.7407)\n",
      "18. total_strikes_attempts (Importance: 0.7399)\n",
      "19. clinch_strikes_landed (Importance: 0.7399)\n",
      "20. ground_strikes_landed (Importance: 0.7399)\n",
      "21. clinch_strikes_attempts (Importance: 0.7358)\n",
      "22. head_strikes_landed (Importance: 0.7350)\n",
      "23. ground_strikes_attempts (Importance: 0.7342)\n",
      "24. head_strikes_accuracy (Importance: 0.7317)\n",
      "25. leg_strikes_accuracy (Importance: 0.7300)\n",
      "26. body_strikes_accuracy (Importance: 0.7292)\n",
      "27. sig_strikes_accuracy (Importance: 0.7276)\n",
      "28. takedowns_accuracy (Importance: 0.7276)\n",
      "29. clinch_strikes_accuracy (Importance: 0.7267)\n",
      "30. total_strikes_def (Importance: 0.7259)\n"
     ]
    }
   ],
   "source": [
    "importances = rfe_cv.grid_scores_\n",
    "indices = np.argsort(importances)[::-1]\n",
    "column_names = features.columns\n",
    "\n",
    "print(\"Feature Ranking (Top 30):\")\n",
    "\n",
    "for i in range(30):\n",
    "    index = indices[i]\n",
    "    column_name = column_names[index]\n",
    "    importance = importances[index]\n",
    "    print(f\"{i + 1}. {column_name} (Importance: {importance:.4f})\")\n",
    "\n",
    "\n"
   ]
  },
  {
   "cell_type": "markdown",
   "metadata": {},
   "source": [
    "### Training the SVM"
   ]
  },
  {
   "cell_type": "code",
   "execution_count": 117,
   "metadata": {
    "scrolled": false
   },
   "outputs": [
    {
     "data": {
      "text/plain": [
       "SVC(C=3.630265895704372, coef0=0.24929222914887494, degree=2,\n",
       "    gamma=0.05398410913016732, kernel='linear')"
      ]
     },
     "execution_count": 117,
     "metadata": {},
     "output_type": "execute_result"
    }
   ],
   "source": [
    "best_features = selector.get_support(indices=True)\n",
    "X_train_selected = X_train[:, best_features]\n",
    "X_val_selected = X_val[:, best_features]\n",
    "\n",
    "# Retrieve the best hyperparameters from the RandomizedSearchCV\n",
    "best_params = random_search.best_params_\n",
    "\n",
    "# Create an SVM classifier with the best hyperparameters\n",
    "svm_clf = SVC(**best_params)\n",
    "\n",
    "# Train the SVM classifier using the selected features\n",
    "svm_clf.fit(X_train_selected, y_train)"
   ]
  },
  {
   "cell_type": "markdown",
   "metadata": {},
   "source": [
    "### Evaluation"
   ]
  },
  {
   "cell_type": "code",
   "execution_count": 130,
   "metadata": {
    "scrolled": false
   },
   "outputs": [
    {
     "name": "stdout",
     "output_type": "stream",
     "text": [
      "Training - Accuracy: 0.7916\n",
      "Training - Precision: 0.8197\n",
      "Training - Recall: 0.7436\n",
      "Training - F1 Score: 0.7798\n",
      "Validation - Accuracy: 0.7992\n",
      "Validation - Precision: 0.8151\n",
      "Validation - Recall: 0.7691\n",
      "Validation - F1 Score: 0.7915\n",
      "Test - Accuracy: 0.7969\n",
      "Test - Precision: 0.8134\n",
      "Test - Recall: 0.7572\n",
      "Test - F1 Score: 0.7843\n"
     ]
    },
    {
     "data": {
      "image/png": "[encoded data removed]",
      "text/plain": [
       "<Figure size 432x288 with 1 Axes>"
      ]
     },
     "metadata": {
      "needs_background": "light"
     },
     "output_type": "display_data"
    },
    {
     "data": {
      "image/png": "[encoded data removed]",
      "text/plain": [
       "<Figure size 432x288 with 1 Axes>"
      ]
     },
     "metadata": {
      "needs_background": "light"
     },
     "output_type": "display_data"
    },
    {
     "data": {
      "image/png": "[encoded data removed]",
      "text/plain": [
       "<Figure size 432x288 with 1 Axes>"
      ]
     },
     "metadata": {
      "needs_background": "light"
     },
     "output_type": "display_data"
    }
   ],
   "source": [
    "import matplotlib.pyplot as plt\n",
    "import seaborn as sns\n",
    "from sklearn.metrics import confusion_matrix, roc_curve, roc_auc_score, precision_recall_curve, average_precision_score\n",
    "\n",
    "\n",
    "def print_metrics(y_true, y_pred, label):\n",
    "    accuracy = accuracy_score(y_true, y_pred)\n",
    "    precision = precision_score(y_true, y_pred)\n",
    "    recall = recall_score(y_true, y_pred)\n",
    "    f1 = f1_score(y_true, y_pred)\n",
    "\n",
    "    print(f\"{label} - Accuracy: {accuracy:.4f}\")\n",
    "    print(f\"{label} - Precision: {precision:.4f}\")\n",
    "    print(f\"{label} - Recall: {recall:.4f}\")\n",
    "    print(f\"{label} - F1 Score: {f1:.4f}\")\n",
    "\n",
    "y_train_pred = svm_clf.predict(X_train_selected)\n",
    "print_metrics(y_train, y_train_pred, \"Training\")\n",
    "\n",
    "y_val_pred = svm_clf.predict(X_val_selected)\n",
    "print_metrics(y_val, y_val_pred, \"Validation\")\n",
    "\n",
    "X_test_selected = X_test[:, best_features]\n",
    "y_test_pred = svm_clf.predict(X_test_selected)\n",
    "print_metrics(y_test, y_test_pred, \"Test\")\n",
    "\n",
    "y_val_pred = svm_clf.predict(X_val_selected)\n",
    "\n",
    "cm = confusion_matrix(y_val, y_val_pred)\n",
    "sns.heatmap(cm, annot=True, fmt='d', cmap='Blues', cbar=False)\n",
    "plt.xlabel('Predicted')\n",
    "plt.ylabel('Actual')\n",
    "plt.title('Confusion Matrix for Validation Set')\n",
    "plt.show()\n",
    "\n",
    "y_val_proba = svm_clf.decision_function(X_val_selected)\n",
    "\n",
    "fpr, tpr, _ = roc_curve(y_val, y_val_proba)\n",
    "auc = roc_auc_score(y_val, y_val_proba)\n",
    "\n",
    "plt.figure()\n",
    "plt.plot(fpr, tpr, label=f'AUC = {auc:.2f}')\n",
    "plt.plot([0, 1], [0, 1], 'k--')\n",
    "plt.xlim([0.0, 1.0])\n",
    "plt.ylim([0.0, 1.05])\n",
    "plt.xlabel('False Positive Rate')\n",
    "plt.ylabel('True Positive Rate')\n",
    "plt.title('ROC Curve for Validation Set')\n",
    "plt.legend(loc='lower right')\n",
    "plt.show()\n",
    "\n",
    "\n",
    "precision, recall, _ = precision_recall_curve(y_val, y_val_proba)\n",
    "average_precision = average_precision_score(y_val, y_val_proba)\n",
    "\n",
    "plt.figure()\n",
    "plt.step(recall, precision, where='post')\n",
    "plt.xlabel('Recall')\n",
    "plt.ylabel('Precision')\n",
    "plt.ylim([0.0, 1.05])\n",
    "plt.xlim([0.0, 1.0])\n",
    "plt.title(f'Precision-Recall curve for Validation Set: AP={average_precision:.2f}')\n",
    "plt.show()\n"
   ]
  }
 ],
 "metadata": {
  "kernelspec": {
   "display_name": "Python 3",
   "language": "python",
   "name": "python3"
  },
  "language_info": {
   "codemirror_mode": {
    "name": "ipython",
    "version": 3
   },
   "file_extension": ".py",
   "mimetype": "text/x-python",
   "name": "python",
   "nbconvert_exporter": "python",
   "pygments_lexer": "ipython3",
   "version": "3.8.5"
  }
 },
 "nbformat": 4,
 "nbformat_minor": 4
}
